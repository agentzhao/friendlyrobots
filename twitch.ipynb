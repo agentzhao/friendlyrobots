{
 "cells": [
  {
   "cell_type": "code",
   "execution_count": 1,
   "id": "3e709f95",
   "metadata": {},
   "outputs": [],
   "source": [
    "import socket"
   ]
  },
  {
   "cell_type": "code",
   "execution_count": 2,
   "id": "c78a31dd",
   "metadata": {},
   "outputs": [],
   "source": [
    "server = 'irc.chat.twitch.tv'\n",
    "port = 6667\n",
    "nickname = 'agent_zhao'\n",
    "token = 'oauth:z4w5tkjwkzt8qefufpcn6gn8w560bw'\n",
    "channel = '#agent_zhao'"
   ]
  },
  {
   "cell_type": "code",
   "execution_count": 3,
   "id": "703eefae",
   "metadata": {},
   "outputs": [
    {
     "data": {
      "text/plain": [
       "17"
      ]
     },
     "execution_count": 3,
     "metadata": {},
     "output_type": "execute_result"
    }
   ],
   "source": [
    "sock = socket.socket()\n",
    "sock.connect((server, port))\n",
    "\n",
    "sock.send(f\"PASS {token}\\n\".encode('utf-8'))\n",
    "sock.send(f\"NICK {nickname}\\n\".encode('utf-8'))\n",
    "sock.send(f\"JOIN {channel}\\n\".encode('utf-8'))"
   ]
  },
  {
   "cell_type": "code",
   "execution_count": null,
   "id": "24e8390d",
   "metadata": {},
   "outputs": [],
   "source": [
    "while True:\n",
    "    resp = sock.recv(2048).decode('utf-8')\n",
    "\n",
    "    if resp.startswith('PING'):\n",
    "        sock.send(\"PONG\\n\".encode('utf-8'))\n",
    "    \n",
    "    if \"agent_zhao :\" in resp:\n",
    "        temp = resp.split(\"agent_zhao :\")[1][:-2]\n",
    "        if len(temp) == 1:\n",
    "            print(temp)"
   ]
  },
  {
   "cell_type": "code",
   "execution_count": null,
   "id": "7c08cd46",
   "metadata": {},
   "outputs": [],
   "source": []
  }
 ],
 "metadata": {
  "kernelspec": {
   "display_name": "Python 3 (ipykernel)",
   "language": "python",
   "name": "python3"
  },
  "language_info": {
   "codemirror_mode": {
    "name": "ipython",
    "version": 3
   },
   "file_extension": ".py",
   "mimetype": "text/x-python",
   "name": "python",
   "nbconvert_exporter": "python",
   "pygments_lexer": "ipython3",
   "version": "3.9.5"
  }
 },
 "nbformat": 4,
 "nbformat_minor": 5
}
