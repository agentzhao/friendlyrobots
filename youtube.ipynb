{
 "cells": [
  {
   "cell_type": "code",
   "execution_count": 1,
   "id": "b26c811d",
   "metadata": {},
   "outputs": [],
   "source": [
    "import pytchat\n",
    "import time as t\n",
    "import json\n",
    "import AWSIoTPythonSDK.MQTTLib as AWSIoTPyMQTT"
   ]
  },
  {
   "cell_type": "code",
   "execution_count": 2,
   "id": "4deef275",
   "metadata": {},
   "outputs": [
    {
     "data": {
      "text/plain": [
       "True"
      ]
     },
     "execution_count": 2,
     "metadata": {},
     "output_type": "execute_result"
    }
   ],
   "source": [
    "# Define ENDPOINT, CLIENT_ID, PATH_TO_CERT, PATH_TO_KEY, PATH_TO_ROOT, MESSAGE, TOPIC, and RANGE\n",
    "ENDPOINT = \"a1501v4wp56mm7-ats.iot.ap-southeast-1.amazonaws.com\"\n",
    "CLIENT_ID = \"Client\"\n",
    "PATH_TO_CERT = \"certificates/certificate.pem.crt\"\n",
    "PATH_TO_KEY = \"certificates/private.pem.key\"\n",
    "PATH_TO_ROOT = \"certificates/root.cer\"\n",
    "TOPIC = \"movement\"\n",
    "\n",
    "myAWSIoTMQTTClient = AWSIoTPyMQTT.AWSIoTMQTTClient(CLIENT_ID)\n",
    "myAWSIoTMQTTClient.configureEndpoint(ENDPOINT, 8883)\n",
    "myAWSIoTMQTTClient.configureCredentials(PATH_TO_ROOT, PATH_TO_KEY, PATH_TO_CERT)\n",
    "\n",
    "myAWSIoTMQTTClient.connect()"
   ]
  },
  {
   "cell_type": "code",
   "execution_count": 3,
   "id": "c1c835c8",
   "metadata": {},
   "outputs": [
    {
     "name": "stdout",
     "output_type": "stream",
     "text": [
      "[WinError 10054] An existing connection was forcibly closed by the remote host\n",
      "[WinError 10054] An existing connection was forcibly closed by the remote host\n",
      "[WinError 10054] An existing connection was forcibly closed by the remote host\n"
     ]
    }
   ],
   "source": [
    "chat = pytchat.create(video_id=\"COiIqdA_M4Q\")\n",
    "while chat.is_alive():\n",
    "    for c in chat.get().sync_items():\n",
    "        if len(c.message) == 1:\n",
    "            myAWSIoTMQTTClient.publish(TOPIC, c.message, 1)"
   ]
  }
 ],
 "metadata": {
  "kernelspec": {
   "display_name": "Python 3 (ipykernel)",
   "language": "python",
   "name": "python3"
  },
  "language_info": {
   "codemirror_mode": {
    "name": "ipython",
    "version": 3
   },
   "file_extension": ".py",
   "mimetype": "text/x-python",
   "name": "python",
   "nbconvert_exporter": "python",
   "pygments_lexer": "ipython3",
   "version": "3.9.5"
  }
 },
 "nbformat": 4,
 "nbformat_minor": 5
}
